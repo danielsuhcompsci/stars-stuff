{
  "cells": [
    {
      "cell_type": "code",
      "execution_count": 65,
      "metadata": {
        "id": "gJhWNdnEV5nS"
      },
      "outputs": [],
      "source": [
        "import numpy as np\n",
        "import pandas as pd\n",
        "import matplotlib.pyplot as plt\n",
        "from sklearn.preprocessing import StandardScaler, OneHotEncoder\n",
        "from imblearn.over_sampling import RandomOverSampler"
      ]
    },
    {
      "attachments": {},
      "cell_type": "markdown",
      "metadata": {
        "id": "UK4qmE1eWjPB"
      },
      "source": [
        "## Star Dataset from: \n",
        "https://www.kaggle.com/datasets/deepu1109/star-dataset\n",
        "\n",
        "Brown Dwarf -> Star Type = 0\n",
        "\n",
        "Red Dwarf -> Star Type = 1\n",
        "\n",
        "White Dwarf-> Star Type = 2\n",
        "\n",
        "Main Sequence -> Star Type = 3\n",
        "\n",
        "Supergiant -> Star Type = 4\n",
        "\n",
        "Hypergiant -> Star Type = 5"
      ]
    },
    {
      "cell_type": "code",
      "execution_count": 21,
      "metadata": {
        "colab": {
          "base_uri": "https://localhost:8080/",
          "height": 363
        },
        "id": "saSb3OqKWRyG",
        "outputId": "86723a54-38b3-4c61-fa7f-8753eac9d86d"
      },
      "outputs": [
        {
          "data": {
            "text/html": [
              "<div>\n",
              "<style scoped>\n",
              "    .dataframe tbody tr th:only-of-type {\n",
              "        vertical-align: middle;\n",
              "    }\n",
              "\n",
              "    .dataframe tbody tr th {\n",
              "        vertical-align: top;\n",
              "    }\n",
              "\n",
              "    .dataframe thead th {\n",
              "        text-align: right;\n",
              "    }\n",
              "</style>\n",
              "<table border=\"1\" class=\"dataframe\">\n",
              "  <thead>\n",
              "    <tr style=\"text-align: right;\">\n",
              "      <th></th>\n",
              "      <th>Temperature (K)</th>\n",
              "      <th>Luminosity(L/Lo)</th>\n",
              "      <th>Radius(R/Ro)</th>\n",
              "      <th>Absolute magnitude(Mv)</th>\n",
              "      <th>Star type</th>\n",
              "      <th>Star color</th>\n",
              "      <th>Spectral Class</th>\n",
              "    </tr>\n",
              "  </thead>\n",
              "  <tbody>\n",
              "    <tr>\n",
              "      <th>0</th>\n",
              "      <td>3068</td>\n",
              "      <td>0.002400</td>\n",
              "      <td>0.1700</td>\n",
              "      <td>16.12</td>\n",
              "      <td>0</td>\n",
              "      <td>Red</td>\n",
              "      <td>M</td>\n",
              "    </tr>\n",
              "    <tr>\n",
              "      <th>1</th>\n",
              "      <td>3042</td>\n",
              "      <td>0.000500</td>\n",
              "      <td>0.1542</td>\n",
              "      <td>16.60</td>\n",
              "      <td>0</td>\n",
              "      <td>Red</td>\n",
              "      <td>M</td>\n",
              "    </tr>\n",
              "    <tr>\n",
              "      <th>2</th>\n",
              "      <td>2600</td>\n",
              "      <td>0.000300</td>\n",
              "      <td>0.1020</td>\n",
              "      <td>18.70</td>\n",
              "      <td>0</td>\n",
              "      <td>Red</td>\n",
              "      <td>M</td>\n",
              "    </tr>\n",
              "    <tr>\n",
              "      <th>3</th>\n",
              "      <td>2800</td>\n",
              "      <td>0.000200</td>\n",
              "      <td>0.1600</td>\n",
              "      <td>16.65</td>\n",
              "      <td>0</td>\n",
              "      <td>Red</td>\n",
              "      <td>M</td>\n",
              "    </tr>\n",
              "    <tr>\n",
              "      <th>4</th>\n",
              "      <td>1939</td>\n",
              "      <td>0.000138</td>\n",
              "      <td>0.1030</td>\n",
              "      <td>20.06</td>\n",
              "      <td>0</td>\n",
              "      <td>Red</td>\n",
              "      <td>M</td>\n",
              "    </tr>\n",
              "  </tbody>\n",
              "</table>\n",
              "</div>"
            ],
            "text/plain": [
              "   Temperature (K)  Luminosity(L/Lo)  Radius(R/Ro)  Absolute magnitude(Mv)  \\\n",
              "0             3068          0.002400        0.1700                   16.12   \n",
              "1             3042          0.000500        0.1542                   16.60   \n",
              "2             2600          0.000300        0.1020                   18.70   \n",
              "3             2800          0.000200        0.1600                   16.65   \n",
              "4             1939          0.000138        0.1030                   20.06   \n",
              "\n",
              "   Star type Star color Spectral Class  \n",
              "0          0        Red              M  \n",
              "1          0        Red              M  \n",
              "2          0        Red              M  \n",
              "3          0        Red              M  \n",
              "4          0        Red              M  "
            ]
          },
          "execution_count": 21,
          "metadata": {},
          "output_type": "execute_result"
        }
      ],
      "source": [
        "df = pd.read_csv(\"stars.csv\")\n",
        "df.head()"
      ]
    },
    {
      "cell_type": "code",
      "execution_count": 22,
      "metadata": {
        "colab": {
          "base_uri": "https://localhost:8080/"
        },
        "id": "Pqr5P4dQYamF",
        "outputId": "bdfb391a-6695-43e8-a4f4-a4fee5d61d24"
      },
      "outputs": [
        {
          "data": {
            "text/html": [
              "<div>\n",
              "<style scoped>\n",
              "    .dataframe tbody tr th:only-of-type {\n",
              "        vertical-align: middle;\n",
              "    }\n",
              "\n",
              "    .dataframe tbody tr th {\n",
              "        vertical-align: top;\n",
              "    }\n",
              "\n",
              "    .dataframe thead th {\n",
              "        text-align: right;\n",
              "    }\n",
              "</style>\n",
              "<table border=\"1\" class=\"dataframe\">\n",
              "  <thead>\n",
              "    <tr style=\"text-align: right;\">\n",
              "      <th></th>\n",
              "      <th>Temperature (K)</th>\n",
              "      <th>Luminosity(L/Lo)</th>\n",
              "      <th>Radius(R/Ro)</th>\n",
              "      <th>Absolute magnitude(Mv)</th>\n",
              "      <th>Star color</th>\n",
              "      <th>Spectral Class</th>\n",
              "      <th>Star type</th>\n",
              "    </tr>\n",
              "  </thead>\n",
              "  <tbody>\n",
              "    <tr>\n",
              "      <th>0</th>\n",
              "      <td>3068</td>\n",
              "      <td>0.002400</td>\n",
              "      <td>0.1700</td>\n",
              "      <td>16.12</td>\n",
              "      <td>red</td>\n",
              "      <td>M</td>\n",
              "      <td>0</td>\n",
              "    </tr>\n",
              "    <tr>\n",
              "      <th>1</th>\n",
              "      <td>3042</td>\n",
              "      <td>0.000500</td>\n",
              "      <td>0.1542</td>\n",
              "      <td>16.60</td>\n",
              "      <td>red</td>\n",
              "      <td>M</td>\n",
              "      <td>0</td>\n",
              "    </tr>\n",
              "    <tr>\n",
              "      <th>2</th>\n",
              "      <td>2600</td>\n",
              "      <td>0.000300</td>\n",
              "      <td>0.1020</td>\n",
              "      <td>18.70</td>\n",
              "      <td>red</td>\n",
              "      <td>M</td>\n",
              "      <td>0</td>\n",
              "    </tr>\n",
              "    <tr>\n",
              "      <th>3</th>\n",
              "      <td>2800</td>\n",
              "      <td>0.000200</td>\n",
              "      <td>0.1600</td>\n",
              "      <td>16.65</td>\n",
              "      <td>red</td>\n",
              "      <td>M</td>\n",
              "      <td>0</td>\n",
              "    </tr>\n",
              "    <tr>\n",
              "      <th>4</th>\n",
              "      <td>1939</td>\n",
              "      <td>0.000138</td>\n",
              "      <td>0.1030</td>\n",
              "      <td>20.06</td>\n",
              "      <td>red</td>\n",
              "      <td>M</td>\n",
              "      <td>0</td>\n",
              "    </tr>\n",
              "  </tbody>\n",
              "</table>\n",
              "</div>"
            ],
            "text/plain": [
              "   Temperature (K)  Luminosity(L/Lo)  Radius(R/Ro)  Absolute magnitude(Mv)  \\\n",
              "0             3068          0.002400        0.1700                   16.12   \n",
              "1             3042          0.000500        0.1542                   16.60   \n",
              "2             2600          0.000300        0.1020                   18.70   \n",
              "3             2800          0.000200        0.1600                   16.65   \n",
              "4             1939          0.000138        0.1030                   20.06   \n",
              "\n",
              "  Star color Spectral Class  Star type  \n",
              "0        red              M          0  \n",
              "1        red              M          0  \n",
              "2        red              M          0  \n",
              "3        red              M          0  \n",
              "4        red              M          0  "
            ]
          },
          "execution_count": 22,
          "metadata": {},
          "output_type": "execute_result"
        }
      ],
      "source": [
        "import re\n",
        "\n",
        "# df.isnull().sum()\n",
        "# df[\"Star type\"].unique()\n",
        "\n",
        "# print(df[df['Star color'] == \"Blue-white\"][\"Star type\"])\n",
        "# print(df[df['Star color'] == \"Blue White\"][\"Star type\"])\n",
        "\n",
        "def preprocess_color(color_name):\n",
        "  new_name = color_name.replace(\" \", \"-\").lower()\n",
        "  if new_name[-1] == '-':\n",
        "    new_name = new_name[:-1]\n",
        "  if new_name == \"yellow-white\":\n",
        "    new_name = \"white-yellow\"\n",
        "  return new_name\n",
        "\n",
        "# print(df['Star color'].value_counts())\n",
        "\n",
        "# Fix some color names\n",
        "df['Star color'] = df['Star color'].apply(preprocess_color)\n",
        "\n",
        "# Move 'Star type' column to the end\n",
        "df = df[[col for col in df if col not in ['Star type']] + ['Star type']]\n",
        "df.head()\n",
        "\n",
        "\n",
        "# data = [8, 8, 9, 12, 13, 13, 14, 14, 15, 18, 22, 23, 24, 25, 30]\n",
        "# fig, ax = plt.subplots()\n",
        "# ax.hist(df[\"Star color\"], edgecolor=\"black\")"
      ]
    },
    {
      "cell_type": "code",
      "execution_count": null,
      "metadata": {
        "colab": {
          "base_uri": "https://localhost:8080/",
          "height": 1000
        },
        "id": "LFZkrVtYYdJE",
        "outputId": "7c9a582f-089b-4de4-c2ce-cf443dabdddf"
      },
      "outputs": [],
      "source": [
        "colors = [\"red\", \"blue\", \"green\", \"orange\", \"yellow\", \"purple\"]\n",
        "labels = [\"brown dwarf\", \"red dwarf\", \"white dwarf\", \"main sequence\", \"supergiant\", \"hypergiant\"] # from repo https://github.com/ACM-Research/coding-challenge-2023-spring\n",
        "for label in df.columns:\n",
        "  # Plot histogram of each column for each star type\n",
        "  if label == \"Star type\":\n",
        "    continue;\n",
        "  if label == \"Star color\" or label == \"Spectral Class\": # Just plot a simple bar chart for categorical\n",
        "    plt.bar(df[label].value_counts().index, df[label].value_counts().values, edgecolor=\"black\")\n",
        "  else: \n",
        "    for star_type in range(6): # Plot a histogram to compare current column with each star type\n",
        "      plt.hist(df[df['Star type'] == star_type][label], color=colors[star_type], label=labels[star_type], alpha=0.7, density=False) \n",
        "      plt.legend()\n",
        "  plt.ylabel(\"Frequency\")\n",
        "  plt.title(label)\n",
        "  plt.xlabel(label)  \n",
        "  plt.show()\n"
      ]
    },
    {
      "attachments": {},
      "cell_type": "markdown",
      "metadata": {
        "id": "WIK0prDaloWE"
      },
      "source": [
        "# Train, validation, test datasets"
      ]
    },
    {
      "cell_type": "code",
      "execution_count": 69,
      "metadata": {
        "id": "st7V9qk0ZJSy"
      },
      "outputs": [
        {
          "name": "stdout",
          "output_type": "stream",
          "text": [
            "21\n",
            "26\n",
            "23\n",
            "22\n",
            "26\n",
            "26\n"
          ]
        }
      ],
      "source": [
        "train, valid, test = np.split(df.sample(frac=1), [int(0.6*len(df)), int(0.8*len(df))]) # 60-20-20\n",
        "\n",
        "for i in range(6):\n",
        "    print(len(train[train[\"Star type\"] == i]))"
      ]
    },
    {
      "cell_type": "code",
      "execution_count": null,
      "metadata": {
        "id": "unn0Zz_gVKVm"
      },
      "outputs": [],
      "source": [
        "from pandas import DataFrame\n",
        "\n",
        "\n",
        "def preprocess(dataframe: DataFrame, oversample=False):\n",
        "  columns_to_encode = [\"Star color\", \"Spectral Class\"]\n",
        "  columns_to_scale = [\"Temperature (K)\", \"Luminosity(L/Lo)\", \"Radius(R/Ro)\", \"Absolute magnitude(Mv)\"]\n",
        "    \n",
        "  scaler = StandardScaler()\n",
        "  ohe = OneHotEncoder(sparse_output=False)\n",
        "  \n",
        "  scaled = scaler.fit_transform(dataframe[columns_to_scale])\n",
        "  encoded = ohe.fit_transform(dataframe[columns_to_encode])  \n",
        "  \n",
        "  processed_data = np.concatenate([scaled, encoded], axis=1)\n",
        "  \n",
        "  X = processed_data\n",
        "  y = dataframe[\"Star type\"].values    \n",
        "  \n",
        "  if oversample: # Likely not necessary here\n",
        "    ros = RandomOverSampler()\n",
        "    X, y = ros.fit_resample(X, y)\n",
        "    \n",
        "  # all_columns = np.concatenate((columns_to_scale, ohe.get_feature_names_out(columns_to_encode), [\"Star type\"]))\n",
        "  \n",
        "  # print(pd.DataFrame(np.hstack((X, np.reshape(y, (-1, 1)))), columns=all_columns).head())\n",
        "    \n",
        "  return np.hstack((X, np.reshape(y, (-1, 1)))), X, y\n",
        "\n",
        "\n",
        "\n",
        "train, X_train, y_train = preprocess(train)\n",
        "valid, X_valid, y_valid = preprocess(train)\n",
        "test, X_test, y_test = preprocess(train)\n",
        "# for i in range(6):\n",
        "#     print(sum(y_train == i))"
      ]
    },
    {
      "attachments": {},
      "cell_type": "markdown",
      "metadata": {},
      "source": [
        "# KNN"
      ]
    },
    {
      "cell_type": "code",
      "execution_count": null,
      "metadata": {},
      "outputs": [],
      "source": []
    }
  ],
  "metadata": {
    "colab": {
      "provenance": []
    },
    "kernelspec": {
      "display_name": "Python 3",
      "name": "python3"
    },
    "language_info": {
      "codemirror_mode": {
        "name": "ipython",
        "version": 3
      },
      "file_extension": ".py",
      "mimetype": "text/x-python",
      "name": "python",
      "nbconvert_exporter": "python",
      "pygments_lexer": "ipython3",
      "version": "3.11.3"
    }
  },
  "nbformat": 4,
  "nbformat_minor": 0
}
